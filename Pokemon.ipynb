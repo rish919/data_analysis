{
 "cells": [
  {
   "cell_type": "code",
   "execution_count": 1,
   "id": "8fa500d0-e780-40f6-ad03-b7a29fd0d9a5",
   "metadata": {},
   "outputs": [],
   "source": [
    "import pandas as pd\n",
    "import matplotlib\n",
    "from matplotlib import pyplot as plt\n",
    "import seaborn as sns"
   ]
  },
  {
   "cell_type": "code",
   "execution_count": 2,
   "id": "ecf3af52-25b6-4974-9746-879f3f69b79d",
   "metadata": {},
   "outputs": [],
   "source": [
    "df = pd.read_csv('pokemon_data.csv')"
   ]
  },
  {
   "cell_type": "code",
   "execution_count": 3,
   "id": "57ca003f-f49a-4636-855a-1d4a4fed27cd",
   "metadata": {},
   "outputs": [
    {
     "data": {
      "text/html": [
       "<div>\n",
       "<style scoped>\n",
       "    .dataframe tbody tr th:only-of-type {\n",
       "        vertical-align: middle;\n",
       "    }\n",
       "\n",
       "    .dataframe tbody tr th {\n",
       "        vertical-align: top;\n",
       "    }\n",
       "\n",
       "    .dataframe thead th {\n",
       "        text-align: right;\n",
       "    }\n",
       "</style>\n",
       "<table border=\"1\" class=\"dataframe\">\n",
       "  <thead>\n",
       "    <tr style=\"text-align: right;\">\n",
       "      <th></th>\n",
       "      <th>national_number</th>\n",
       "      <th>gen</th>\n",
       "      <th>english_name</th>\n",
       "      <th>japanese_name</th>\n",
       "      <th>primary_type</th>\n",
       "      <th>secondary_type</th>\n",
       "      <th>classification</th>\n",
       "      <th>percent_male</th>\n",
       "      <th>percent_female</th>\n",
       "      <th>height_m</th>\n",
       "      <th>...</th>\n",
       "      <th>evochain_1</th>\n",
       "      <th>evochain_2</th>\n",
       "      <th>evochain_3</th>\n",
       "      <th>evochain_4</th>\n",
       "      <th>evochain_5</th>\n",
       "      <th>evochain_6</th>\n",
       "      <th>gigantamax</th>\n",
       "      <th>mega_evolution</th>\n",
       "      <th>mega_evolution_alt</th>\n",
       "      <th>description</th>\n",
       "    </tr>\n",
       "  </thead>\n",
       "  <tbody>\n",
       "    <tr>\n",
       "      <th>0</th>\n",
       "      <td>1</td>\n",
       "      <td>I</td>\n",
       "      <td>Bulbasaur</td>\n",
       "      <td>Fushigidane</td>\n",
       "      <td>grass</td>\n",
       "      <td>poison</td>\n",
       "      <td>Seed Pokémon</td>\n",
       "      <td>88.14</td>\n",
       "      <td>11.86</td>\n",
       "      <td>0.7</td>\n",
       "      <td>...</td>\n",
       "      <td>Level</td>\n",
       "      <td>Ivysaur</td>\n",
       "      <td>Level</td>\n",
       "      <td>Venusaur</td>\n",
       "      <td>NaN</td>\n",
       "      <td>NaN</td>\n",
       "      <td>NaN</td>\n",
       "      <td>NaN</td>\n",
       "      <td>NaN</td>\n",
       "      <td>There is a plant seed on its back right from t...</td>\n",
       "    </tr>\n",
       "    <tr>\n",
       "      <th>1</th>\n",
       "      <td>2</td>\n",
       "      <td>I</td>\n",
       "      <td>Ivysaur</td>\n",
       "      <td>Fushigisou</td>\n",
       "      <td>grass</td>\n",
       "      <td>poison</td>\n",
       "      <td>Seed Pokémon</td>\n",
       "      <td>88.14</td>\n",
       "      <td>11.86</td>\n",
       "      <td>1.0</td>\n",
       "      <td>...</td>\n",
       "      <td>Level</td>\n",
       "      <td>Ivysaur</td>\n",
       "      <td>Level</td>\n",
       "      <td>Venusaur</td>\n",
       "      <td>NaN</td>\n",
       "      <td>NaN</td>\n",
       "      <td>NaN</td>\n",
       "      <td>NaN</td>\n",
       "      <td>NaN</td>\n",
       "      <td>When the bulb on its back grows large, it appe...</td>\n",
       "    </tr>\n",
       "    <tr>\n",
       "      <th>2</th>\n",
       "      <td>3</td>\n",
       "      <td>I</td>\n",
       "      <td>Venusaur</td>\n",
       "      <td>Fushigibana</td>\n",
       "      <td>grass</td>\n",
       "      <td>poison</td>\n",
       "      <td>Seed Pokémon</td>\n",
       "      <td>88.14</td>\n",
       "      <td>11.86</td>\n",
       "      <td>2.0</td>\n",
       "      <td>...</td>\n",
       "      <td>Level</td>\n",
       "      <td>Ivysaur</td>\n",
       "      <td>Level</td>\n",
       "      <td>Venusaur</td>\n",
       "      <td>NaN</td>\n",
       "      <td>NaN</td>\n",
       "      <td>Gigantamax Venusaur</td>\n",
       "      <td>DM me your favourite pokemon to get extra points</td>\n",
       "      <td>NaN</td>\n",
       "      <td>Its plant blooms when it is absorbing solar en...</td>\n",
       "    </tr>\n",
       "    <tr>\n",
       "      <th>3</th>\n",
       "      <td>4</td>\n",
       "      <td>I</td>\n",
       "      <td>Charmander</td>\n",
       "      <td>Hitokage</td>\n",
       "      <td>fire</td>\n",
       "      <td>NaN</td>\n",
       "      <td>Lizard Pokémon</td>\n",
       "      <td>88.14</td>\n",
       "      <td>11.86</td>\n",
       "      <td>0.6</td>\n",
       "      <td>...</td>\n",
       "      <td>Level</td>\n",
       "      <td>Charmeleon</td>\n",
       "      <td>Level</td>\n",
       "      <td>Charizard</td>\n",
       "      <td>NaN</td>\n",
       "      <td>NaN</td>\n",
       "      <td>NaN</td>\n",
       "      <td>NaN</td>\n",
       "      <td>NaN</td>\n",
       "      <td>It has a preference for hot things. When it ra...</td>\n",
       "    </tr>\n",
       "    <tr>\n",
       "      <th>4</th>\n",
       "      <td>5</td>\n",
       "      <td>I</td>\n",
       "      <td>Charmeleon</td>\n",
       "      <td>Lizardo</td>\n",
       "      <td>fire</td>\n",
       "      <td>NaN</td>\n",
       "      <td>Flame Pokémon</td>\n",
       "      <td>88.14</td>\n",
       "      <td>11.86</td>\n",
       "      <td>1.1</td>\n",
       "      <td>...</td>\n",
       "      <td>Level</td>\n",
       "      <td>Charmeleon</td>\n",
       "      <td>Level</td>\n",
       "      <td>Charizard</td>\n",
       "      <td>NaN</td>\n",
       "      <td>NaN</td>\n",
       "      <td>NaN</td>\n",
       "      <td>NaN</td>\n",
       "      <td>NaN</td>\n",
       "      <td>It has a barbaric nature. In battle, it whips ...</td>\n",
       "    </tr>\n",
       "  </tbody>\n",
       "</table>\n",
       "<p>5 rows × 55 columns</p>\n",
       "</div>"
      ],
      "text/plain": [
       "   national_number gen english_name japanese_name primary_type secondary_type  \\\n",
       "0                1   I    Bulbasaur   Fushigidane        grass         poison   \n",
       "1                2   I      Ivysaur    Fushigisou        grass         poison   \n",
       "2                3   I     Venusaur   Fushigibana        grass         poison   \n",
       "3                4   I   Charmander      Hitokage         fire            NaN   \n",
       "4                5   I   Charmeleon       Lizardo         fire            NaN   \n",
       "\n",
       "   classification percent_male percent_female  height_m  ...  evochain_1  \\\n",
       "0    Seed Pokémon        88.14          11.86       0.7  ...      Level    \n",
       "1    Seed Pokémon        88.14          11.86       1.0  ...      Level    \n",
       "2    Seed Pokémon        88.14          11.86       2.0  ...      Level    \n",
       "3  Lizard Pokémon        88.14          11.86       0.6  ...      Level    \n",
       "4   Flame Pokémon        88.14          11.86       1.1  ...      Level    \n",
       "\n",
       "   evochain_2  evochain_3  evochain_4  evochain_5  evochain_6  \\\n",
       "0     Ivysaur      Level     Venusaur         NaN         NaN   \n",
       "1     Ivysaur      Level     Venusaur         NaN         NaN   \n",
       "2     Ivysaur      Level     Venusaur         NaN         NaN   \n",
       "3  Charmeleon      Level    Charizard         NaN         NaN   \n",
       "4  Charmeleon      Level    Charizard         NaN         NaN   \n",
       "\n",
       "            gigantamax                                    mega_evolution  \\\n",
       "0                  NaN                                               NaN   \n",
       "1                  NaN                                               NaN   \n",
       "2  Gigantamax Venusaur  DM me your favourite pokemon to get extra points   \n",
       "3                  NaN                                               NaN   \n",
       "4                  NaN                                               NaN   \n",
       "\n",
       "   mega_evolution_alt                                        description  \n",
       "0                 NaN  There is a plant seed on its back right from t...  \n",
       "1                 NaN  When the bulb on its back grows large, it appe...  \n",
       "2                 NaN  Its plant blooms when it is absorbing solar en...  \n",
       "3                 NaN  It has a preference for hot things. When it ra...  \n",
       "4                 NaN  It has a barbaric nature. In battle, it whips ...  \n",
       "\n",
       "[5 rows x 55 columns]"
      ]
     },
     "execution_count": 3,
     "metadata": {},
     "output_type": "execute_result"
    }
   ],
   "source": [
    "df.head()"
   ]
  },
  {
   "cell_type": "code",
   "execution_count": 4,
   "id": "75b1c115-d272-4c95-a2b5-bef4562c697a",
   "metadata": {},
   "outputs": [
    {
     "data": {
      "text/plain": [
       "(898, 55)"
      ]
     },
     "execution_count": 4,
     "metadata": {},
     "output_type": "execute_result"
    }
   ],
   "source": [
    "df.shape"
   ]
  },
  {
   "cell_type": "code",
   "execution_count": 5,
   "id": "53771adc-0836-46e2-9ad8-cd1e239b24cb",
   "metadata": {},
   "outputs": [
    {
     "data": {
      "text/html": [
       "<div>\n",
       "<style scoped>\n",
       "    .dataframe tbody tr th:only-of-type {\n",
       "        vertical-align: middle;\n",
       "    }\n",
       "\n",
       "    .dataframe tbody tr th {\n",
       "        vertical-align: top;\n",
       "    }\n",
       "\n",
       "    .dataframe thead th {\n",
       "        text-align: right;\n",
       "    }\n",
       "</style>\n",
       "<table border=\"1\" class=\"dataframe\">\n",
       "  <thead>\n",
       "    <tr style=\"text-align: right;\">\n",
       "      <th></th>\n",
       "      <th>national_number</th>\n",
       "      <th>height_m</th>\n",
       "      <th>weight_kg</th>\n",
       "      <th>base_egg_steps</th>\n",
       "      <th>hp</th>\n",
       "      <th>attack</th>\n",
       "      <th>defense</th>\n",
       "      <th>sp_attack</th>\n",
       "      <th>sp_defense</th>\n",
       "      <th>speed</th>\n",
       "      <th>...</th>\n",
       "      <th>against_bug</th>\n",
       "      <th>against_rock</th>\n",
       "      <th>against_ghost</th>\n",
       "      <th>against_dragon</th>\n",
       "      <th>against_dark</th>\n",
       "      <th>against_steel</th>\n",
       "      <th>against_fairy</th>\n",
       "      <th>is_sublegendary</th>\n",
       "      <th>is_legendary</th>\n",
       "      <th>is_mythical</th>\n",
       "    </tr>\n",
       "  </thead>\n",
       "  <tbody>\n",
       "    <tr>\n",
       "      <th>count</th>\n",
       "      <td>898.000000</td>\n",
       "      <td>898.000000</td>\n",
       "      <td>898.000000</td>\n",
       "      <td>898.000000</td>\n",
       "      <td>898.000000</td>\n",
       "      <td>898.000000</td>\n",
       "      <td>898.000000</td>\n",
       "      <td>898.000000</td>\n",
       "      <td>898.000000</td>\n",
       "      <td>898.000000</td>\n",
       "      <td>...</td>\n",
       "      <td>898.000000</td>\n",
       "      <td>898.000000</td>\n",
       "      <td>898.000000</td>\n",
       "      <td>898.000000</td>\n",
       "      <td>898.000000</td>\n",
       "      <td>898.000000</td>\n",
       "      <td>898.00000</td>\n",
       "      <td>898.000000</td>\n",
       "      <td>898.000000</td>\n",
       "      <td>898.000000</td>\n",
       "    </tr>\n",
       "    <tr>\n",
       "      <th>mean</th>\n",
       "      <td>449.500000</td>\n",
       "      <td>1.185969</td>\n",
       "      <td>63.970045</td>\n",
       "      <td>7544.587973</td>\n",
       "      <td>69.031180</td>\n",
       "      <td>76.544543</td>\n",
       "      <td>71.886414</td>\n",
       "      <td>69.681514</td>\n",
       "      <td>69.876392</td>\n",
       "      <td>65.949889</td>\n",
       "      <td>...</td>\n",
       "      <td>0.999165</td>\n",
       "      <td>1.245546</td>\n",
       "      <td>0.994432</td>\n",
       "      <td>0.972717</td>\n",
       "      <td>1.057628</td>\n",
       "      <td>0.984131</td>\n",
       "      <td>1.08157</td>\n",
       "      <td>0.050111</td>\n",
       "      <td>0.022272</td>\n",
       "      <td>0.022272</td>\n",
       "    </tr>\n",
       "    <tr>\n",
       "      <th>std</th>\n",
       "      <td>259.374568</td>\n",
       "      <td>1.234222</td>\n",
       "      <td>119.430298</td>\n",
       "      <td>7101.313608</td>\n",
       "      <td>26.213707</td>\n",
       "      <td>29.665559</td>\n",
       "      <td>29.536184</td>\n",
       "      <td>29.372609</td>\n",
       "      <td>27.012142</td>\n",
       "      <td>28.456596</td>\n",
       "      <td>...</td>\n",
       "      <td>0.609120</td>\n",
       "      <td>0.702248</td>\n",
       "      <td>0.553163</td>\n",
       "      <td>0.365120</td>\n",
       "      <td>0.441639</td>\n",
       "      <td>0.497022</td>\n",
       "      <td>0.53157</td>\n",
       "      <td>0.218296</td>\n",
       "      <td>0.147648</td>\n",
       "      <td>0.147648</td>\n",
       "    </tr>\n",
       "    <tr>\n",
       "      <th>min</th>\n",
       "      <td>1.000000</td>\n",
       "      <td>0.100000</td>\n",
       "      <td>0.100000</td>\n",
       "      <td>1280.000000</td>\n",
       "      <td>1.000000</td>\n",
       "      <td>5.000000</td>\n",
       "      <td>5.000000</td>\n",
       "      <td>10.000000</td>\n",
       "      <td>20.000000</td>\n",
       "      <td>5.000000</td>\n",
       "      <td>...</td>\n",
       "      <td>0.250000</td>\n",
       "      <td>0.250000</td>\n",
       "      <td>0.000000</td>\n",
       "      <td>0.000000</td>\n",
       "      <td>0.250000</td>\n",
       "      <td>0.250000</td>\n",
       "      <td>0.25000</td>\n",
       "      <td>0.000000</td>\n",
       "      <td>0.000000</td>\n",
       "      <td>0.000000</td>\n",
       "    </tr>\n",
       "    <tr>\n",
       "      <th>25%</th>\n",
       "      <td>225.250000</td>\n",
       "      <td>0.500000</td>\n",
       "      <td>8.500000</td>\n",
       "      <td>5120.000000</td>\n",
       "      <td>50.000000</td>\n",
       "      <td>55.000000</td>\n",
       "      <td>50.000000</td>\n",
       "      <td>46.250000</td>\n",
       "      <td>50.000000</td>\n",
       "      <td>45.000000</td>\n",
       "      <td>...</td>\n",
       "      <td>0.500000</td>\n",
       "      <td>1.000000</td>\n",
       "      <td>1.000000</td>\n",
       "      <td>1.000000</td>\n",
       "      <td>1.000000</td>\n",
       "      <td>0.500000</td>\n",
       "      <td>1.00000</td>\n",
       "      <td>0.000000</td>\n",
       "      <td>0.000000</td>\n",
       "      <td>0.000000</td>\n",
       "    </tr>\n",
       "    <tr>\n",
       "      <th>50%</th>\n",
       "      <td>449.500000</td>\n",
       "      <td>1.000000</td>\n",
       "      <td>27.000000</td>\n",
       "      <td>5120.000000</td>\n",
       "      <td>65.000000</td>\n",
       "      <td>75.000000</td>\n",
       "      <td>67.000000</td>\n",
       "      <td>65.000000</td>\n",
       "      <td>65.000000</td>\n",
       "      <td>65.000000</td>\n",
       "      <td>...</td>\n",
       "      <td>1.000000</td>\n",
       "      <td>1.000000</td>\n",
       "      <td>1.000000</td>\n",
       "      <td>1.000000</td>\n",
       "      <td>1.000000</td>\n",
       "      <td>1.000000</td>\n",
       "      <td>1.00000</td>\n",
       "      <td>0.000000</td>\n",
       "      <td>0.000000</td>\n",
       "      <td>0.000000</td>\n",
       "    </tr>\n",
       "    <tr>\n",
       "      <th>75%</th>\n",
       "      <td>673.750000</td>\n",
       "      <td>1.500000</td>\n",
       "      <td>65.000000</td>\n",
       "      <td>6400.000000</td>\n",
       "      <td>80.000000</td>\n",
       "      <td>95.000000</td>\n",
       "      <td>90.000000</td>\n",
       "      <td>90.000000</td>\n",
       "      <td>85.000000</td>\n",
       "      <td>85.000000</td>\n",
       "      <td>...</td>\n",
       "      <td>1.000000</td>\n",
       "      <td>2.000000</td>\n",
       "      <td>1.000000</td>\n",
       "      <td>1.000000</td>\n",
       "      <td>1.000000</td>\n",
       "      <td>1.000000</td>\n",
       "      <td>1.00000</td>\n",
       "      <td>0.000000</td>\n",
       "      <td>0.000000</td>\n",
       "      <td>0.000000</td>\n",
       "    </tr>\n",
       "    <tr>\n",
       "      <th>max</th>\n",
       "      <td>898.000000</td>\n",
       "      <td>20.000000</td>\n",
       "      <td>999.900000</td>\n",
       "      <td>30720.000000</td>\n",
       "      <td>255.000000</td>\n",
       "      <td>181.000000</td>\n",
       "      <td>230.000000</td>\n",
       "      <td>173.000000</td>\n",
       "      <td>230.000000</td>\n",
       "      <td>200.000000</td>\n",
       "      <td>...</td>\n",
       "      <td>4.000000</td>\n",
       "      <td>4.000000</td>\n",
       "      <td>4.000000</td>\n",
       "      <td>2.000000</td>\n",
       "      <td>4.000000</td>\n",
       "      <td>4.000000</td>\n",
       "      <td>4.00000</td>\n",
       "      <td>1.000000</td>\n",
       "      <td>1.000000</td>\n",
       "      <td>1.000000</td>\n",
       "    </tr>\n",
       "  </tbody>\n",
       "</table>\n",
       "<p>8 rows × 31 columns</p>\n",
       "</div>"
      ],
      "text/plain": [
       "       national_number    height_m   weight_kg  base_egg_steps          hp  \\\n",
       "count       898.000000  898.000000  898.000000      898.000000  898.000000   \n",
       "mean        449.500000    1.185969   63.970045     7544.587973   69.031180   \n",
       "std         259.374568    1.234222  119.430298     7101.313608   26.213707   \n",
       "min           1.000000    0.100000    0.100000     1280.000000    1.000000   \n",
       "25%         225.250000    0.500000    8.500000     5120.000000   50.000000   \n",
       "50%         449.500000    1.000000   27.000000     5120.000000   65.000000   \n",
       "75%         673.750000    1.500000   65.000000     6400.000000   80.000000   \n",
       "max         898.000000   20.000000  999.900000    30720.000000  255.000000   \n",
       "\n",
       "           attack     defense   sp_attack  sp_defense       speed  ...  \\\n",
       "count  898.000000  898.000000  898.000000  898.000000  898.000000  ...   \n",
       "mean    76.544543   71.886414   69.681514   69.876392   65.949889  ...   \n",
       "std     29.665559   29.536184   29.372609   27.012142   28.456596  ...   \n",
       "min      5.000000    5.000000   10.000000   20.000000    5.000000  ...   \n",
       "25%     55.000000   50.000000   46.250000   50.000000   45.000000  ...   \n",
       "50%     75.000000   67.000000   65.000000   65.000000   65.000000  ...   \n",
       "75%     95.000000   90.000000   90.000000   85.000000   85.000000  ...   \n",
       "max    181.000000  230.000000  173.000000  230.000000  200.000000  ...   \n",
       "\n",
       "       against_bug  against_rock  against_ghost  against_dragon  against_dark  \\\n",
       "count   898.000000    898.000000     898.000000      898.000000    898.000000   \n",
       "mean      0.999165      1.245546       0.994432        0.972717      1.057628   \n",
       "std       0.609120      0.702248       0.553163        0.365120      0.441639   \n",
       "min       0.250000      0.250000       0.000000        0.000000      0.250000   \n",
       "25%       0.500000      1.000000       1.000000        1.000000      1.000000   \n",
       "50%       1.000000      1.000000       1.000000        1.000000      1.000000   \n",
       "75%       1.000000      2.000000       1.000000        1.000000      1.000000   \n",
       "max       4.000000      4.000000       4.000000        2.000000      4.000000   \n",
       "\n",
       "       against_steel  against_fairy  is_sublegendary  is_legendary  \\\n",
       "count     898.000000      898.00000       898.000000    898.000000   \n",
       "mean        0.984131        1.08157         0.050111      0.022272   \n",
       "std         0.497022        0.53157         0.218296      0.147648   \n",
       "min         0.250000        0.25000         0.000000      0.000000   \n",
       "25%         0.500000        1.00000         0.000000      0.000000   \n",
       "50%         1.000000        1.00000         0.000000      0.000000   \n",
       "75%         1.000000        1.00000         0.000000      0.000000   \n",
       "max         4.000000        4.00000         1.000000      1.000000   \n",
       "\n",
       "       is_mythical  \n",
       "count   898.000000  \n",
       "mean      0.022272  \n",
       "std       0.147648  \n",
       "min       0.000000  \n",
       "25%       0.000000  \n",
       "50%       0.000000  \n",
       "75%       0.000000  \n",
       "max       1.000000  \n",
       "\n",
       "[8 rows x 31 columns]"
      ]
     },
     "execution_count": 5,
     "metadata": {},
     "output_type": "execute_result"
    }
   ],
   "source": [
    "df.describe()"
   ]
  },
  {
   "cell_type": "code",
   "execution_count": 6,
   "id": "9342e3fe-c768-444b-9a34-ba5e8a3ca61e",
   "metadata": {},
   "outputs": [
    {
     "name": "stdout",
     "output_type": "stream",
     "text": [
      "<class 'pandas.core.frame.DataFrame'>\n",
      "RangeIndex: 898 entries, 0 to 897\n",
      "Data columns (total 55 columns):\n",
      " #   Column              Non-Null Count  Dtype  \n",
      "---  ------              --------------  -----  \n",
      " 0   national_number     898 non-null    int64  \n",
      " 1   gen                 898 non-null    object \n",
      " 2   english_name        898 non-null    object \n",
      " 3   japanese_name       898 non-null    object \n",
      " 4   primary_type        898 non-null    object \n",
      " 5   secondary_type      469 non-null    object \n",
      " 6   classification      898 non-null    object \n",
      " 7   percent_male        776 non-null    object \n",
      " 8   percent_female      776 non-null    object \n",
      " 9   height_m            898 non-null    float64\n",
      " 10  weight_kg           898 non-null    float64\n",
      " 11  capture_rate        898 non-null    object \n",
      " 12  base_egg_steps      898 non-null    int64  \n",
      " 13  hp                  898 non-null    int64  \n",
      " 14  attack              898 non-null    int64  \n",
      " 15  defense             898 non-null    int64  \n",
      " 16  sp_attack           898 non-null    int64  \n",
      " 17  sp_defense          898 non-null    int64  \n",
      " 18  speed               898 non-null    int64  \n",
      " 19  abilities_0         898 non-null    object \n",
      " 20  abilities_1         495 non-null    object \n",
      " 21  abilities_2         3 non-null      object \n",
      " 22  abilities_hidden    763 non-null    object \n",
      " 23  against_normal      898 non-null    float64\n",
      " 24  against_fire        898 non-null    float64\n",
      " 25  against_water       898 non-null    float64\n",
      " 26  against_electric    898 non-null    float64\n",
      " 27  against_grass       898 non-null    float64\n",
      " 28  against_ice         898 non-null    float64\n",
      " 29  against_fighting    898 non-null    float64\n",
      " 30  against_poison      898 non-null    float64\n",
      " 31  against_ground      898 non-null    float64\n",
      " 32  against_flying      898 non-null    float64\n",
      " 33  against_psychic     898 non-null    float64\n",
      " 34  against_bug         898 non-null    float64\n",
      " 35  against_rock        898 non-null    float64\n",
      " 36  against_ghost       898 non-null    float64\n",
      " 37  against_dragon      898 non-null    float64\n",
      " 38  against_dark        898 non-null    float64\n",
      " 39  against_steel       898 non-null    float64\n",
      " 40  against_fairy       898 non-null    float64\n",
      " 41  is_sublegendary     898 non-null    int64  \n",
      " 42  is_legendary        898 non-null    int64  \n",
      " 43  is_mythical         898 non-null    int64  \n",
      " 44  evochain_0          898 non-null    object \n",
      " 45  evochain_1          728 non-null    object \n",
      " 46  evochain_2          728 non-null    object \n",
      " 47  evochain_3          335 non-null    object \n",
      " 48  evochain_4          332 non-null    object \n",
      " 49  evochain_5          19 non-null     object \n",
      " 50  evochain_6          19 non-null     object \n",
      " 51  gigantamax          31 non-null     object \n",
      " 52  mega_evolution      46 non-null     object \n",
      " 53  mega_evolution_alt  2 non-null      object \n",
      " 54  description         898 non-null    object \n",
      "dtypes: float64(20), int64(11), object(24)\n",
      "memory usage: 386.0+ KB\n"
     ]
    }
   ],
   "source": [
    "df.info()"
   ]
  },
  {
   "cell_type": "code",
   "execution_count": 7,
   "id": "7bdb1457-0fcf-4381-84f6-fcb63bd920ba",
   "metadata": {},
   "outputs": [
    {
     "data": {
      "text/plain": [
       "national_number         0\n",
       "gen                     0\n",
       "english_name            0\n",
       "japanese_name           0\n",
       "primary_type            0\n",
       "secondary_type        429\n",
       "classification          0\n",
       "percent_male          122\n",
       "percent_female        122\n",
       "height_m                0\n",
       "weight_kg               0\n",
       "capture_rate            0\n",
       "base_egg_steps          0\n",
       "hp                      0\n",
       "attack                  0\n",
       "defense                 0\n",
       "sp_attack               0\n",
       "sp_defense              0\n",
       "speed                   0\n",
       "abilities_0             0\n",
       "abilities_1           403\n",
       "abilities_2           895\n",
       "abilities_hidden      135\n",
       "against_normal          0\n",
       "against_fire            0\n",
       "against_water           0\n",
       "against_electric        0\n",
       "against_grass           0\n",
       "against_ice             0\n",
       "against_fighting        0\n",
       "against_poison          0\n",
       "against_ground          0\n",
       "against_flying          0\n",
       "against_psychic         0\n",
       "against_bug             0\n",
       "against_rock            0\n",
       "against_ghost           0\n",
       "against_dragon          0\n",
       "against_dark            0\n",
       "against_steel           0\n",
       "against_fairy           0\n",
       "is_sublegendary         0\n",
       "is_legendary            0\n",
       "is_mythical             0\n",
       "evochain_0              0\n",
       "evochain_1            170\n",
       "evochain_2            170\n",
       "evochain_3            563\n",
       "evochain_4            566\n",
       "evochain_5            879\n",
       "evochain_6            879\n",
       "gigantamax            867\n",
       "mega_evolution        852\n",
       "mega_evolution_alt    896\n",
       "description             0\n",
       "dtype: int64"
      ]
     },
     "execution_count": 7,
     "metadata": {},
     "output_type": "execute_result"
    }
   ],
   "source": [
    "df.isna().sum()"
   ]
  },
  {
   "cell_type": "markdown",
   "id": "6528efde-dfaa-4b2d-a8dc-3952dbcf9e7a",
   "metadata": {},
   "source": [
    "# Questions"
   ]
  },
  {
   "cell_type": "markdown",
   "id": "6f355ab2-5108-4ac1-8339-04882dfa55ab",
   "metadata": {},
   "source": [
    "### Q1. Detect outliers in weight_kg and height_m. Are there any abnormally large or small Pokémon?"
   ]
  },
  {
   "cell_type": "code",
   "execution_count": 8,
   "id": "151b8d1f-8e67-43a8-9fe6-b8fb8a2a688b",
   "metadata": {},
   "outputs": [
    {
     "data": {
      "text/plain": [
       "count    898.000000\n",
       "mean      63.970045\n",
       "std      119.430298\n",
       "min        0.100000\n",
       "25%        8.500000\n",
       "50%       27.000000\n",
       "75%       65.000000\n",
       "max      999.900000\n",
       "Name: weight_kg, dtype: float64"
      ]
     },
     "execution_count": 8,
     "metadata": {},
     "output_type": "execute_result"
    }
   ],
   "source": [
    "df.weight_kg.describe()"
   ]
  },
  {
   "cell_type": "code",
   "execution_count": 9,
   "id": "19f16b6a-73e5-43c0-ab52-84ead6b278a3",
   "metadata": {},
   "outputs": [
    {
     "data": {
      "image/png": "[encoded data removed]",
      "text/plain": [
       "<Figure size 640x480 with 1 Axes>"
      ]
     },
     "metadata": {},
     "output_type": "display_data"
    }
   ],
   "source": [
    "plt.hist(df.weight_kg, bins=20, rwidth=0.8)\n",
    "plt.xlabel('Weight (kg)')\n",
    "plt.ylabel('Count')\n",
    "plt.show()"
   ]
  },
  {
   "cell_type": "code",
   "execution_count": 10,
   "id": "d4a073f0-7981-458f-8ab3-008cc7d3f166",
   "metadata": {},
   "outputs": [
    {
     "data": {
      "image/png": "[encoded data removed]",
      "text/plain": [
       "<Figure size 640x480 with 1 Axes>"
      ]
     },
     "metadata": {},
     "output_type": "display_data"
    }
   ],
   "source": [
    "plt.hist(df.height_m, bins=20, rwidth=0.8)\n",
    "plt.xlabel('Height (m)')\n",
    "plt.ylabel('Count')\n",
    "plt.show()"
   ]
  },
  {
   "cell_type": "code",
   "execution_count": 11,
   "id": "7d603bcd-c2e0-4b39-a795-8911cda9ecb6",
   "metadata": {},
   "outputs": [
    {
     "name": "stdout",
     "output_type": "stream",
     "text": [
      "     national_number english_name  weight_kg  height_m\n",
      "58                59     Arcanine      155.0       1.9\n",
      "75                76        Golem      300.0       1.4\n",
      "94                95         Onix      210.0       8.8\n",
      "129              130     Gyarados      235.0       6.5\n",
      "130              131       Lapras      220.0       2.5\n",
      "..               ...          ...        ...       ...\n",
      "147              148    Dragonair       16.5       4.0\n",
      "496              497    Serperior       63.0       3.3\n",
      "791              792       Lunala      120.0       4.0\n",
      "795              796    Xurkitree      100.0       3.8\n",
      "843              844   Sandaconda       65.5       3.8\n",
      "\n",
      "[100 rows x 4 columns]\n"
     ]
    }
   ],
   "source": [
    "def find_outliers(data, col):\n",
    "    q1 = data[col].quantile(0.25)\n",
    "    q3 = data[col].quantile(0.75)\n",
    "    iqr = q3 - q1\n",
    "    low = q1 - 1.5 * iqr\n",
    "    high = q3 + 1.5 * iqr\n",
    "    return data[(data[col] < low) | (data[col] > high)]\n",
    "out_wt = find_outliers(df, 'weight_kg')\n",
    "out_ht = find_outliers(df, 'height_m')\n",
    "outliers = pd.concat([out_wt, out_ht]).drop_duplicates()\n",
    "\n",
    "print(outliers[['national_number', 'english_name', 'weight_kg', 'height_m']])"
   ]
  },
  {
   "cell_type": "code",
   "execution_count": 12,
   "id": "45a24d55-97ed-4407-8b99-df88811de110",
   "metadata": {},
   "outputs": [
    {
     "name": "stdout",
     "output_type": "stream",
     "text": [
      "Total outliers: 100\n"
     ]
    }
   ],
   "source": [
    "# Number of abnormally large or small Pokemon\n",
    "print(\"Total outliers:\", len(outliers))"
   ]
  },
  {
   "cell_type": "markdown",
   "id": "5a8bb3fa-7753-481e-b8e0-1e38377005ea",
   "metadata": {},
   "source": [
    "### Q2. Remove outliers from hp, then find the average hp by generation. Does the trend change after outlier removal?"
   ]
  },
  {
   "cell_type": "code",
   "execution_count": 13,
   "id": "dec4a76d-ebb4-4543-be6e-a9b393ff62a7",
   "metadata": {},
   "outputs": [],
   "source": [
    "q1 = df['hp'].quantile(0.25)\n",
    "q3 = df['hp'].quantile(0.75)\n",
    "iqr = q3 - q1\n",
    "low = q1 - 1.5 * iqr\n",
    "high = q3 + 1.5 * iqr\n",
    "\n",
    "df_hp_clean = df[(df['hp'] >= low) & (df['hp'] <= high)]"
   ]
  },
  {
   "cell_type": "code",
   "execution_count": 14,
   "id": "8951dc68-2c38-48ed-b960-dcbc425fb319",
   "metadata": {},
   "outputs": [
    {
     "name": "stdout",
     "output_type": "stream",
     "text": [
      "Average HP by generation (before outlier removal): gen\n",
      "I       64.211921\n",
      "II      70.980000\n",
      "III     65.666667\n",
      "IV      73.102804\n",
      "V       70.314103\n",
      "VI      68.916667\n",
      "VII     71.011364\n",
      "VIII    71.112360\n",
      "Name: hp, dtype: float64\n",
      "Average HP by generation (after outlier removal): gen\n",
      "I       60.863014\n",
      "II      67.887755\n",
      "III     63.615385\n",
      "IV      71.028846\n",
      "V       69.703226\n",
      "VI      67.285714\n",
      "VII     66.869048\n",
      "VIII    68.839080\n",
      "Name: hp, dtype: float64\n"
     ]
    }
   ],
   "source": [
    "avg_hp_before = df.groupby('gen')['hp'].mean()\n",
    "avg_hp_after = df_hp_clean.groupby('gen')['hp'].mean()\n",
    "\n",
    "print(\"Average HP by generation (before outlier removal):\",avg_hp_before)\n",
    "print(\"Average HP by generation (after outlier removal):\",avg_hp_after)"
   ]
  },
  {
   "cell_type": "markdown",
   "id": "6e9e48a8-9418-4150-a334-b9474ed5afdd",
   "metadata": {},
   "source": [
    "### Q3. Use Z-score to find unusual values in attack. What are the top 5 outliers?"
   ]
  },
  {
   "cell_type": "code",
   "execution_count": 15,
   "id": "25833f2f-53d9-4672-a3b6-c950b6bc4cf5",
   "metadata": {},
   "outputs": [
    {
     "name": "stdout",
     "output_type": "stream",
     "text": [
      "     national_number english_name  attack  attack_z\n",
      "797              798      Kartana     181  3.521102\n",
      "408              409    Rampardos     165  2.981756\n",
      "288              289      Slaking     160  2.813210\n",
      "485              486    Regigigas     160  2.813210\n"
     ]
    }
   ],
   "source": [
    "df['attack_z'] = (df['attack'] - df['attack'].mean()) / df['attack'].std()\n",
    "outliers_attack = df[df['attack_z'].abs() > 2.5]\n",
    "top5_outliers = outliers_attack.sort_values(by='attack_z', ascending=False).head(5)\n",
    "\n",
    "print(top5_outliers[['national_number', 'english_name', 'attack', 'attack_z']])\n",
    "\n",
    "#Used a threshold of 2.5, as there was only 1 outlier for >3"
   ]
  },
  {
   "cell_type": "markdown",
   "id": "5edc50c0-9c59-4600-a50a-7135632ffc0b",
   "metadata": {},
   "source": [
    "### Q4. How does the average attack vary across different primary_types?"
   ]
  },
  {
   "cell_type": "code",
   "execution_count": 16,
   "id": "a6e8788d-3064-4d57-b193-054ecc3c91ec",
   "metadata": {},
   "outputs": [
    {
     "data": {
      "text/plain": [
       "primary_type\n",
       "fighting    99.944444\n",
       "dragon      98.806452\n",
       "ground      92.657143\n",
       "steel       88.566667\n",
       "rock        87.120000\n",
       "dark        84.361111\n",
       "fire        83.741379\n",
       "electric    73.897959\n",
       "normal      73.862385\n",
       "ice         73.071429\n",
       "poison      73.028571\n",
       "grass       72.767442\n",
       "flying      71.571429\n",
       "water       71.195122\n",
       "ghost       69.483871\n",
       "bug         66.253333\n",
       "psychic     63.534483\n",
       "fairy       63.238095\n",
       "Name: attack, dtype: float64"
      ]
     },
     "execution_count": 16,
     "metadata": {},
     "output_type": "execute_result"
    }
   ],
   "source": [
    "df.groupby('primary_type')['attack'].mean().sort_values(ascending=False)"
   ]
  },
  {
   "cell_type": "markdown",
   "id": "d1f8dba5-67e3-405c-93b2-7a9cb8de2ea3",
   "metadata": {},
   "source": [
    "### Q5. Find the average HP of Pokémon from each generation."
   ]
  },
  {
   "cell_type": "code",
   "execution_count": 17,
   "id": "2f16d535-ee73-48ac-bdb7-80ca4abf2c48",
   "metadata": {},
   "outputs": [
    {
     "data": {
      "text/plain": [
       "gen\n",
       "I       64.211921\n",
       "II      70.980000\n",
       "III     65.666667\n",
       "IV      73.102804\n",
       "V       70.314103\n",
       "VI      68.916667\n",
       "VII     71.011364\n",
       "VIII    71.112360\n",
       "Name: hp, dtype: float64"
      ]
     },
     "execution_count": 17,
     "metadata": {},
     "output_type": "execute_result"
    }
   ],
   "source": [
    "df.groupby('gen')['hp'].mean().sort_index()"
   ]
  },
  {
   "cell_type": "markdown",
   "id": "b0f0733f-242f-4ad6-b8c0-e8cfe300c137",
   "metadata": {},
   "source": [
    "### Q6. How many Pokémon have a secondary type?"
   ]
  },
  {
   "cell_type": "code",
   "execution_count": 18,
   "id": "28af1ee1-12da-4e15-b188-fe6c7010771e",
   "metadata": {},
   "outputs": [
    {
     "data": {
      "text/plain": [
       "469"
      ]
     },
     "execution_count": 18,
     "metadata": {},
     "output_type": "execute_result"
    }
   ],
   "source": [
    "n = df['secondary_type'].notnull().sum()\n",
    "int(n)"
   ]
  },
  {
   "cell_type": "markdown",
   "id": "ca3ea6d3-88e5-4f28-b51f-8cc1d2f4af59",
   "metadata": {},
   "source": [
    "### Q7. Which secondary types appear most frequently with Water as the primary type?"
   ]
  },
  {
   "cell_type": "code",
   "execution_count": 19,
   "id": "7b0f7b66-162f-4759-94ee-b865f3003a3b",
   "metadata": {},
   "outputs": [
    {
     "data": {
      "text/plain": [
       "secondary_type\n",
       "ground      9\n",
       "flying      7\n",
       "psychic     5\n",
       "rock        5\n",
       "dark        4\n",
       "fairy       4\n",
       "ice         4\n",
       "grass       3\n",
       "dragon      3\n",
       "poison      3\n",
       "fighting    2\n",
       "electric    2\n",
       "ghost       2\n",
       "bug         2\n",
       "steel       1\n",
       "Name: count, dtype: int64"
      ]
     },
     "execution_count": 19,
     "metadata": {},
     "output_type": "execute_result"
    }
   ],
   "source": [
    "water_pokemon = df[df['primary_type'] == 'water']\n",
    "water_pokemon['secondary_type'].value_counts()"
   ]
  },
  {
   "cell_type": "markdown",
   "id": "4347d3b7-7d75-40cd-aefd-d5951411eb00",
   "metadata": {},
   "source": [
    "### Q8. Compare the average total stat of Pokémon who are Legendary, Sub-Legendary, and Mythical. What insights do you find?"
   ]
  },
  {
   "cell_type": "code",
   "execution_count": 20,
   "id": "fc879820-bd1f-4f1b-af9b-c650c5b3a62e",
   "metadata": {},
   "outputs": [],
   "source": [
    "df['total_stat'] = df[['hp', 'attack', 'defense', 'sp_attack', 'sp_defense', 'speed']].sum(axis=1)"
   ]
  },
  {
   "cell_type": "code",
   "execution_count": 21,
   "id": "fed0532a-a079-4a02-8fd7-a1f5a1e5bdfd",
   "metadata": {},
   "outputs": [
    {
     "data": {
      "text/plain": [
       "category\n",
       "Legendary        632.000000\n",
       "Mythical         584.000000\n",
       "Sub-Legendary    570.644444\n",
       "Normal           405.692497\n",
       "Name: total_stat, dtype: float64"
      ]
     },
     "execution_count": 21,
     "metadata": {},
     "output_type": "execute_result"
    }
   ],
   "source": [
    "df['category'] = 'Normal'\n",
    "df.loc[df['is_legendary'] == True, 'category'] = 'Legendary'\n",
    "df.loc[df['is_sublegendary'] == True, 'category'] = 'Sub-Legendary'\n",
    "df.loc[df['is_mythical'] == True, 'category'] = 'Mythical'\n",
    "\n",
    "df.groupby('category')['total_stat'].mean().sort_values(ascending=False)"
   ]
  },
  {
   "cell_type": "markdown",
   "id": "63f74b77-e2b8-4df4-ad18-891ddebc9e0c",
   "metadata": {},
   "source": [
    "#### Insights - Legendary Pokemons have the best totals stats"
   ]
  },
  {
   "cell_type": "markdown",
   "id": "f68d3a25-e4a2-498f-b3cc-f9629b5b4d80",
   "metadata": {},
   "source": [
    "### Q9. Create a heatmap of correlations between all stat columns. What pairs are most correlated?"
   ]
  },
  {
   "cell_type": "code",
   "execution_count": 22,
   "id": "6dc7403d-730b-4b00-b873-a3e1686cab08",
   "metadata": {},
   "outputs": [
    {
     "data": {
      "image/png": "[encoded data removed]",
      "text/plain": [
       "<Figure size 800x600 with 2 Axes>"
      ]
     },
     "metadata": {},
     "output_type": "display_data"
    }
   ],
   "source": [
    "stats = df[['hp', 'attack', 'defense', 'sp_attack', 'sp_defense', 'speed']]\n",
    "corr_matrix = stats.corr()\n",
    "plt.figure(figsize=(8,6))\n",
    "sns.heatmap(corr_matrix, annot=True, cmap='coolwarm', fmt=\".2f\")\n",
    "plt.title('Correlation heatmap of stat columns')\n",
    "plt.show()"
   ]
  },
  {
   "cell_type": "markdown",
   "id": "46f71ac4-1a00-4341-b26f-a0e9d9ab7466",
   "metadata": {},
   "source": [
    "#### Insights - sp_defense and defense are most correlated with a 0.51 positive correlation"
   ]
  },
  {
   "cell_type": "markdown",
   "id": "f0d15c3c-fb33-4ec5-a8d0-1c92f5ae05d4",
   "metadata": {},
   "source": [
    "### Q10. Create a histogram showing the distribution of speed values."
   ]
  },
  {
   "cell_type": "code",
   "execution_count": 23,
   "id": "4cc0acfb-a84a-4e5e-98f9-a962f6c314be",
   "metadata": {},
   "outputs": [
    {
     "data": {
      "image/png": "[encoded data removed]",
      "text/plain": [
       "<Figure size 640x480 with 1 Axes>"
      ]
     },
     "metadata": {},
     "output_type": "display_data"
    }
   ],
   "source": [
    "plt.hist(df.speed, bins=20, rwidth=0.8)\n",
    "plt.xlabel('Speed')\n",
    "plt.ylabel('Count')\n",
    "plt.title('Speed distribution')\n",
    "plt.show()"
   ]
  },
  {
   "cell_type": "markdown",
   "id": "50360884-b059-412e-972f-dc0d128362f8",
   "metadata": {},
   "source": [
    "### Q11. Plot the average total stat (hp + other stats) by generation."
   ]
  },
  {
   "cell_type": "code",
   "execution_count": 24,
   "id": "42acc59b-3c4e-421b-9fb7-fdec338d7fd8",
   "metadata": {},
   "outputs": [
    {
     "data": {
      "image/png": "[encoded data removed]",
      "text/plain": [
       "<Figure size 800x600 with 1 Axes>"
      ]
     },
     "metadata": {},
     "output_type": "display_data"
    }
   ],
   "source": [
    "df['total_stat'] = df[['hp', 'attack', 'defense', 'sp_attack', 'sp_defense', 'speed']].sum(axis=1)\n",
    "avg_by_gen = df.groupby('gen')['total_stat'].mean()\n",
    "plt.figure(figsize=(8,6))\n",
    "plt.plot(avg_by_gen.index, avg_by_gen.values, marker='o', linestyle='-')\n",
    "plt.title('Average total stat (gen wise)')\n",
    "plt.xlabel('Generation')\n",
    "plt.ylabel('Average total stat')\n",
    "plt.show()"
   ]
  },
  {
   "cell_type": "markdown",
   "id": "13ed165e-2392-4e21-a0a6-b445df14ffd4",
   "metadata": {},
   "source": [
    "### Q12. Visualize the number of Pokémon who can Gigantamax vs those who can't."
   ]
  },
  {
   "cell_type": "code",
   "execution_count": 25,
   "id": "3341dadc-d11a-498e-a70d-24baf3063e3c",
   "metadata": {},
   "outputs": [
    {
     "data": {
      "image/png": "[encoded data removed]",
      "text/plain": [
       "<Figure size 600x600 with 1 Axes>"
      ]
     },
     "metadata": {},
     "output_type": "display_data"
    },
    {
     "name": "stdout",
     "output_type": "stream",
     "text": [
      "Number of Pokémon who can Gigantamax: 31\n",
      "Number of Pokémon who cannot Gigantamax: 867\n"
     ]
    }
   ],
   "source": [
    "g_counts = df['gigantamax'].isnull().value_counts()\n",
    "labels = ['Cannot Gigantamax', 'Can Gigantamax']\n",
    "sizes = [g_counts[True], g_counts[False]]\n",
    "plt.figure(figsize=(6,6))\n",
    "plt.pie(sizes, labels=labels, autopct='%1.1f%%', startangle=90)\n",
    "plt.title('Number of Pokemon who can vs cannot Gigantamax')\n",
    "plt.show()\n",
    "\n",
    "print(\"Number of Pokémon who can Gigantamax:\",sizes[1])\n",
    "print(\"Number of Pokémon who cannot Gigantamax:\",sizes[0])"
   ]
  },
  {
   "cell_type": "markdown",
   "id": "2ea3066a-087c-424b-a406-641884513eb9",
   "metadata": {},
   "source": [
    "## Bonus Questions (Codes DMed on WhatsApp)"
   ]
  },
  {
   "cell_type": "markdown",
   "id": "29025b3d-109d-4b8a-81d1-aa30d30ae9eb",
   "metadata": {},
   "source": [
    "### Q13. Compare the Eeveelutions"
   ]
  },
  {
   "cell_type": "code",
   "execution_count": 26,
   "id": "cb35819f-6563-4325-87d6-4a28a7ed0dd4",
   "metadata": {},
   "outputs": [
    {
     "data": {
      "text/html": [
       "<div>\n",
       "<style scoped>\n",
       "    .dataframe tbody tr th:only-of-type {\n",
       "        vertical-align: middle;\n",
       "    }\n",
       "\n",
       "    .dataframe tbody tr th {\n",
       "        vertical-align: top;\n",
       "    }\n",
       "\n",
       "    .dataframe thead th {\n",
       "        text-align: right;\n",
       "    }\n",
       "</style>\n",
       "<table border=\"1\" class=\"dataframe\">\n",
       "  <thead>\n",
       "    <tr style=\"text-align: right;\">\n",
       "      <th></th>\n",
       "      <th>hp</th>\n",
       "      <th>attack</th>\n",
       "      <th>defense</th>\n",
       "      <th>sp_attack</th>\n",
       "      <th>sp_defense</th>\n",
       "      <th>speed</th>\n",
       "    </tr>\n",
       "    <tr>\n",
       "      <th>english_name</th>\n",
       "      <th></th>\n",
       "      <th></th>\n",
       "      <th></th>\n",
       "      <th></th>\n",
       "      <th></th>\n",
       "      <th></th>\n",
       "    </tr>\n",
       "  </thead>\n",
       "  <tbody>\n",
       "    <tr>\n",
       "      <th>Eevee</th>\n",
       "      <td>55</td>\n",
       "      <td>55</td>\n",
       "      <td>50</td>\n",
       "      <td>45</td>\n",
       "      <td>65</td>\n",
       "      <td>55</td>\n",
       "    </tr>\n",
       "    <tr>\n",
       "      <th>Vaporeon</th>\n",
       "      <td>130</td>\n",
       "      <td>65</td>\n",
       "      <td>60</td>\n",
       "      <td>110</td>\n",
       "      <td>95</td>\n",
       "      <td>65</td>\n",
       "    </tr>\n",
       "    <tr>\n",
       "      <th>Jolteon</th>\n",
       "      <td>65</td>\n",
       "      <td>65</td>\n",
       "      <td>60</td>\n",
       "      <td>110</td>\n",
       "      <td>95</td>\n",
       "      <td>130</td>\n",
       "    </tr>\n",
       "    <tr>\n",
       "      <th>Flareon</th>\n",
       "      <td>65</td>\n",
       "      <td>130</td>\n",
       "      <td>60</td>\n",
       "      <td>95</td>\n",
       "      <td>110</td>\n",
       "      <td>65</td>\n",
       "    </tr>\n",
       "    <tr>\n",
       "      <th>Espeon</th>\n",
       "      <td>65</td>\n",
       "      <td>65</td>\n",
       "      <td>60</td>\n",
       "      <td>130</td>\n",
       "      <td>95</td>\n",
       "      <td>110</td>\n",
       "    </tr>\n",
       "    <tr>\n",
       "      <th>Umbreon</th>\n",
       "      <td>95</td>\n",
       "      <td>65</td>\n",
       "      <td>110</td>\n",
       "      <td>60</td>\n",
       "      <td>130</td>\n",
       "      <td>65</td>\n",
       "    </tr>\n",
       "    <tr>\n",
       "      <th>Leafeon</th>\n",
       "      <td>65</td>\n",
       "      <td>110</td>\n",
       "      <td>130</td>\n",
       "      <td>60</td>\n",
       "      <td>65</td>\n",
       "      <td>95</td>\n",
       "    </tr>\n",
       "    <tr>\n",
       "      <th>Glaceon</th>\n",
       "      <td>65</td>\n",
       "      <td>60</td>\n",
       "      <td>110</td>\n",
       "      <td>130</td>\n",
       "      <td>95</td>\n",
       "      <td>65</td>\n",
       "    </tr>\n",
       "    <tr>\n",
       "      <th>Sylveon</th>\n",
       "      <td>95</td>\n",
       "      <td>65</td>\n",
       "      <td>65</td>\n",
       "      <td>110</td>\n",
       "      <td>130</td>\n",
       "      <td>60</td>\n",
       "    </tr>\n",
       "  </tbody>\n",
       "</table>\n",
       "</div>"
      ],
      "text/plain": [
       "               hp  attack  defense  sp_attack  sp_defense  speed\n",
       "english_name                                                    \n",
       "Eevee          55      55       50         45          65     55\n",
       "Vaporeon      130      65       60        110          95     65\n",
       "Jolteon        65      65       60        110          95    130\n",
       "Flareon        65     130       60         95         110     65\n",
       "Espeon         65      65       60        130          95    110\n",
       "Umbreon        95      65      110         60         130     65\n",
       "Leafeon        65     110      130         60          65     95\n",
       "Glaceon        65      60      110        130          95     65\n",
       "Sylveon        95      65       65        110         130     60"
      ]
     },
     "execution_count": 26,
     "metadata": {},
     "output_type": "execute_result"
    }
   ],
   "source": [
    "eeveelutions_df = df[df['evochain_0'] == 'Eevee']\n",
    "stat_cols = ['hp', 'attack', 'defense', 'sp_attack', 'sp_defense', 'speed']\n",
    "eeveelutions_df.set_index('english_name')[stat_cols]"
   ]
  },
  {
   "cell_type": "markdown",
   "id": "d5ecc7c0-1676-4a90-9d1b-404bbda6417f",
   "metadata": {},
   "source": [
    "### Q14. Season 2 Episode 4 comparison"
   ]
  },
  {
   "cell_type": "code",
   "execution_count": 27,
   "id": "0dfc0f2c-7ddc-4e0b-bffd-f9fe3692e819",
   "metadata": {},
   "outputs": [
    {
     "data": {
      "text/html": [
       "<div>\n",
       "<style scoped>\n",
       "    .dataframe tbody tr th:only-of-type {\n",
       "        vertical-align: middle;\n",
       "    }\n",
       "\n",
       "    .dataframe tbody tr th {\n",
       "        vertical-align: top;\n",
       "    }\n",
       "\n",
       "    .dataframe thead th {\n",
       "        text-align: right;\n",
       "    }\n",
       "</style>\n",
       "<table border=\"1\" class=\"dataframe\">\n",
       "  <thead>\n",
       "    <tr style=\"text-align: right;\">\n",
       "      <th></th>\n",
       "      <th>Charizard</th>\n",
       "      <th>Magmar</th>\n",
       "    </tr>\n",
       "  </thead>\n",
       "  <tbody>\n",
       "    <tr>\n",
       "      <th>hp</th>\n",
       "      <td>78</td>\n",
       "      <td>65</td>\n",
       "    </tr>\n",
       "    <tr>\n",
       "      <th>attack</th>\n",
       "      <td>84</td>\n",
       "      <td>95</td>\n",
       "    </tr>\n",
       "    <tr>\n",
       "      <th>defense</th>\n",
       "      <td>78</td>\n",
       "      <td>57</td>\n",
       "    </tr>\n",
       "    <tr>\n",
       "      <th>sp_attack</th>\n",
       "      <td>109</td>\n",
       "      <td>100</td>\n",
       "    </tr>\n",
       "    <tr>\n",
       "      <th>sp_defense</th>\n",
       "      <td>85</td>\n",
       "      <td>85</td>\n",
       "    </tr>\n",
       "    <tr>\n",
       "      <th>speed</th>\n",
       "      <td>100</td>\n",
       "      <td>93</td>\n",
       "    </tr>\n",
       "  </tbody>\n",
       "</table>\n",
       "</div>"
      ],
      "text/plain": [
       "            Charizard  Magmar\n",
       "hp                 78      65\n",
       "attack             84      95\n",
       "defense            78      57\n",
       "sp_attack         109     100\n",
       "sp_defense         85      85\n",
       "speed             100      93"
      ]
     },
     "execution_count": 27,
     "metadata": {},
     "output_type": "execute_result"
    }
   ],
   "source": [
    "# Looked up the internet to know what pokemon appeared in season 2 episode 4 and compared their stats.\n",
    "# S2 E4 - Volcanic Panic\n",
    "# Chizard vs Magmar\n",
    "c = df[df['english_name'] == 'Charizard']\n",
    "m = df[df['english_name'] == 'Magmar']\n",
    "stat_cols = ['hp', 'attack', 'defense', 'sp_attack', 'sp_defense', 'speed']\n",
    "\n",
    "pd.DataFrame({'Charizard': c[stat_cols].values[0],'Magmar': m[stat_cols].values[0]}, index = stat_cols)"
   ]
  },
  {
   "cell_type": "markdown",
   "id": "0ac69e4d-5dbf-4e04-a20d-5a52651031d2",
   "metadata": {},
   "source": [
    "### Q15. Who would win a Pokethon?"
   ]
  },
  {
   "cell_type": "code",
   "execution_count": 28,
   "id": "12e78f3b-2f0f-43ba-b9a9-31e52f6da393",
   "metadata": {},
   "outputs": [
    {
     "data": {
      "text/html": [
       "<div>\n",
       "<style scoped>\n",
       "    .dataframe tbody tr th:only-of-type {\n",
       "        vertical-align: middle;\n",
       "    }\n",
       "\n",
       "    .dataframe tbody tr th {\n",
       "        vertical-align: top;\n",
       "    }\n",
       "\n",
       "    .dataframe thead th {\n",
       "        text-align: right;\n",
       "    }\n",
       "</style>\n",
       "<table border=\"1\" class=\"dataframe\">\n",
       "  <thead>\n",
       "    <tr style=\"text-align: right;\">\n",
       "      <th></th>\n",
       "      <th>english_name</th>\n",
       "      <th>speed</th>\n",
       "    </tr>\n",
       "  </thead>\n",
       "  <tbody>\n",
       "    <tr>\n",
       "      <th>893</th>\n",
       "      <td>Regieleki</td>\n",
       "      <td>200</td>\n",
       "    </tr>\n",
       "  </tbody>\n",
       "</table>\n",
       "</div>"
      ],
      "text/plain": [
       "    english_name  speed\n",
       "893    Regieleki    200"
      ]
     },
     "execution_count": 28,
     "metadata": {},
     "output_type": "execute_result"
    }
   ],
   "source": [
    "df[['english_name', 'speed']].sort_values(by='speed', ascending=False).head(1)"
   ]
  }
 ],
 "metadata": {
  "kernelspec": {
   "display_name": "Python 3 (ipykernel)",
   "language": "python",
   "name": "python3"
  },
  "language_info": {
   "codemirror_mode": {
    "name": "ipython",
    "version": 3
   },
   "file_extension": ".py",
   "mimetype": "text/x-python",
   "name": "python",
   "nbconvert_exporter": "python",
   "pygments_lexer": "ipython3",
   "version": "3.9.9"
  }
 },
 "nbformat": 4,
 "nbformat_minor": 5
}
